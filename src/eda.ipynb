{
 "cells": [
  {
   "cell_type": "markdown",
   "id": "6b02bb2f",
   "metadata": {},
   "source": [
    "# Books Recommender for Children using GoodReads data\n",
    "August 9th 2025 \n",
    "\n",
    "This notebook provides a clean, analysis-ready dataset for further modeling or recommendation tasks.\n",
    "\n",
    "---\n",
    "\n",
    "## Inputs\n",
    "\n",
    "- **Raw Data:** Multiple JSON files in `data/all/`, each line is an individual JSON record.\n",
    "- **DataFrames:**\n",
    "  - `books_df`: Book metadata (ISBN, book_id, title, average_rating, description, etc.)\n",
    "  - `reviews_df`: User reviews (user_id, book_id, review_id, rating, review_text, n_votes)\n",
    "\n",
    "---\n",
    "\n",
    "## Processing Steps\n",
    "\n",
    "1. **Data Loading:** All JSON files are read into pandas DataFrames.\n",
    "2. **Book Data Preparation:** Selected columns from the books DataFrame are cleaned and formatted, including handling missing publication years.\n",
    "3. **Review Aggregation:**\n",
    "   - Count total reviews per book.\n",
    "   - Filter reviews to only those with `n_votes > 0`.\n",
    "   - For each book, select the top 20 reviews by number of votes.\n",
    "   - Aggregate these reviews: concatenate review texts and sum votes.\n",
    "   - Merge review aggregates with review counts.\n",
    "4. **Final Dataset Creation:** Merge the processed reviews with selected book metadata.\n",
    "5. **Exploratory Analysis:** \n",
    "   - Check for missing values.\n",
    "   - Display summary statistics for numeric columns.\n",
    "   - Visualize distributions of key numeric features.\n",
    "6. **Output:** Save the final merged DataFrame as a CSV file in `data/clean/books_with_reviews.csv`.\n",
    "\n",
    "---\n",
    "\n",
    "## Outputs\n",
    "\n",
    "- **books_with_reviews.csv:** A cleaned, aggregated dataset containing book metadata, review counts, concatenated top reviews, and total votes for those reviews.\n",
    "\n",
    "---\n",
    "\n",
    "This notebook prepares the data for further modeling or recommendation tasks."
   ]
  },
  {
   "cell_type": "code",
   "execution_count": null,
   "id": "ead2fe0e",
   "metadata": {},
   "outputs": [],
   "source": [
    "import pandas as pd\n",
    "import numpy as np\n",
    "import glob\n",
    "import os"
   ]
  },
  {
   "cell_type": "code",
   "execution_count": null,
   "id": "810d70c0",
   "metadata": {},
   "outputs": [],
   "source": [
    "pd.set_option('display.max_colwidth', None)"
   ]
  },
  {
   "cell_type": "code",
   "execution_count": null,
   "id": "3bf09c27",
   "metadata": {},
   "outputs": [],
   "source": [
    "\n",
    "\n",
    "# Set the directory containing JSON files\n",
    "json_dir = os.path.join(os.getcwd(), '..', 'data/all/')\n",
    "\n",
    "# Find all JSON files in the directory\n",
    "json_files = glob.glob(os.path.join(json_dir, '*.json'))\n",
    "print(f\"Found {len(json_files)} JSON files in {json_dir}\")\n",
    "print(\"Files:\", json_files)\n",
    "# Read each JSON into a dictionary of DataFrames\n",
    "dataframes = {}\n",
    "for file in json_files:\n",
    "    name = os.path.splitext(os.path.basename(file))[0]\n",
    "    dataframes[name] = pd.read_json(file, lines=True)\n",
    "\n",
    "# Display the names and shapes of loaded DataFrames\n",
    "for name, df in dataframes.items():\n",
    "    print(f\"{name}: {df.shape}\")"
   ]
  },
  {
   "cell_type": "code",
   "execution_count": null,
   "id": "a4716618",
   "metadata": {},
   "outputs": [],
   "source": [
    "dataframes"
   ]
  },
  {
   "cell_type": "code",
   "execution_count": null,
   "id": "99581ea3",
   "metadata": {},
   "outputs": [],
   "source": [
    "dataframes['goodreads_books_children'].columns"
   ]
  },
  {
   "cell_type": "code",
   "execution_count": null,
   "id": "d77a907d",
   "metadata": {},
   "outputs": [],
   "source": [
    "books_df = dataframes['goodreads_books_children'][['isbn', 'book_id', 'title', 'average_rating', 'similar_books', 'description', 'format', 'link', 'authors','publisher', 'num_pages','publication_year']]\n",
    "books_df"
   ]
  },
  {
   "cell_type": "code",
   "execution_count": null,
   "id": "000fb429",
   "metadata": {},
   "outputs": [],
   "source": [
    "reviews_df = dataframes['goodreads_reviews_children'][['user_id', 'book_id', 'review_id', 'rating', 'review_text','n_votes']]\n",
    "reviews_df"
   ]
  },
  {
   "cell_type": "code",
   "execution_count": null,
   "id": "dee03a11",
   "metadata": {},
   "outputs": [],
   "source": [
    "books_df['publication_year'] = books_df['publication_year'].replace('', np.nan).fillna(-1).astype(int)"
   ]
  },
  {
   "cell_type": "code",
   "execution_count": null,
   "id": "58c6302b",
   "metadata": {},
   "outputs": [],
   "source": [
    "books_df[((books_df['publication_year'] > 2010) & (books_df['average_rating']>4.5))].sort_values(by='publication_year', ascending=False).head(10)"
   ]
  },
  {
   "cell_type": "code",
   "execution_count": null,
   "id": "8b44e1eb",
   "metadata": {},
   "outputs": [],
   "source": [
    "books_df[((books_df['average_rating'] > 4.9) & (books_df['publication_year'] > 2010))].sort_values(by='publication_year', ascending=False).head(10)"
   ]
  },
  {
   "cell_type": "code",
   "execution_count": null,
   "id": "8a564660",
   "metadata": {},
   "outputs": [],
   "source": [
    "books_df[books_df['title'].str.contains('The Enchanted Wood', case=False, na=False)].sort_values(by='publication_year', ascending=False)  "
   ]
  },
  {
   "cell_type": "code",
   "execution_count": null,
   "id": "c9fc4f21",
   "metadata": {},
   "outputs": [],
   "source": [
    "books_df[books_df['isbn'] == '0689304099'].values  "
   ]
  },
  {
   "cell_type": "code",
   "execution_count": null,
   "id": "416eff1c",
   "metadata": {},
   "outputs": [],
   "source": [
    "reviews_df[reviews_df['book_id'] == '2426418'].values    "
   ]
  },
  {
   "cell_type": "code",
   "execution_count": null,
   "id": "966869b1",
   "metadata": {},
   "outputs": [],
   "source": [
    "# Aggregate reviews: count number of reviews per book\n",
    "review_counts = reviews_df.groupby('book_id').size().reset_index(name='num_reviews')\n",
    "\n",
    "# Merge with books_df to get book titles\n",
    "popular_books = pd.merge(review_counts, books_df[['book_id', 'title']], on='book_id')\n",
    "\n",
    "# Sort by number of reviews, descending\n",
    "popular_books_sorted = popular_books.sort_values(by='num_reviews', ascending=False)\n",
    "\n",
    "# Show distribution of review counts\n",
    "import matplotlib.pyplot as plt\n",
    "plt.figure(figsize=(8,5))\n",
    "plt.hist(review_counts['num_reviews'][review_counts['num_reviews']>10], bins=30)\n",
    "plt.xlabel('Number of Reviews per Book')\n",
    "plt.ylabel('Number of Books')\n",
    "plt.title('Distribution of Reviews per Book')\n",
    "plt.show()\n",
    "\n",
    "# Display top 10 most reviewed books\n",
    "popular_books_sorted.head(10)"
   ]
  },
  {
   "cell_type": "code",
   "execution_count": null,
   "id": "f57008da",
   "metadata": {},
   "outputs": [],
   "source": [
    "review_counts"
   ]
  },
  {
   "cell_type": "code",
   "execution_count": null,
   "id": "619774ba",
   "metadata": {},
   "outputs": [],
   "source": [
    "books_df[books_df['book_id']==5].values"
   ]
  },
  {
   "cell_type": "code",
   "execution_count": null,
   "id": "387d4f7c",
   "metadata": {},
   "outputs": [],
   "source": [
    "reviews_df[['rating','review_text', 'n_votes']][reviews_df['book_id'] == 5].sort_values(by='n_votes', ascending=False)"
   ]
  },
  {
   "cell_type": "code",
   "execution_count": null,
   "id": "a823f08a",
   "metadata": {},
   "outputs": [],
   "source": [
    "# Step 1: Get review counts per book (before filtering)\n",
    "review_counts = reviews_df.groupby('book_id').size().reset_index(name='n_reviews')\n",
    "\n",
    "# Step 2: Filter reviews with n_votes > 0\n",
    "filtered_reviews = reviews_df[reviews_df['n_votes'] > 0]\n",
    "\n",
    "# Step 3: For each book, get top 20 reviews by n_votes\n",
    "top_reviews = (\n",
    "    filtered_reviews\n",
    "    .sort_values(['book_id', 'n_votes'], ascending=[True, False])\n",
    "    .groupby('book_id')\n",
    "    .head(20)\n",
    ")\n",
    "\n",
    "# Step 4: Aggregate per book\n",
    "agg_reviews = (\n",
    "    top_reviews\n",
    "    .groupby('book_id')\n",
    "    .agg(\n",
    "        review_texts=('review_text', lambda x: ' || '.join(x)),\n",
    "        sum_n_votes=('n_votes', 'sum')\n",
    "    )\n",
    "    .reset_index()\n",
    ")\n",
    "\n",
    "# Step 5: Merge with review_counts\n",
    "final_reviews_df = pd.merge(review_counts, agg_reviews, on='book_id', how='left')\n",
    "\n",
    "# Show the result\n",
    "final_reviews_df.head()"
   ]
  },
  {
   "cell_type": "code",
   "execution_count": null,
   "id": "5423d10e",
   "metadata": {},
   "outputs": [],
   "source": [
    "# Select relevant columns from books_df\n",
    "books_selected = books_df[['book_id', 'title', 'average_rating', 'description', 'publication_year']]\n",
    "\n",
    "# Join with final_reviews_df on book_id\n",
    "books_with_reviews = pd.merge(books_selected, final_reviews_df, on='book_id', how='left')\n",
    "\n",
    "# Show the result\n",
    "books_with_reviews.sort_values(by='n_reviews', ascending=False).head()"
   ]
  },
  {
   "cell_type": "code",
   "execution_count": null,
   "id": "6d24dd68",
   "metadata": {},
   "outputs": [],
   "source": [
    "books_with_reviews.sort_values(by='n_reviews', ascending=False).tail()"
   ]
  },
  {
   "cell_type": "code",
   "execution_count": null,
   "id": "3c8d844f",
   "metadata": {},
   "outputs": [],
   "source": [
    "# Check for missing values\n",
    "missing_summary = books_with_reviews.isnull().sum()\n",
    "print(\"Missing values per column:\\n\", missing_summary)\n",
    "\n",
    "# Describe numeric columns\n",
    "numeric_summary = books_with_reviews.describe()\n",
    "print(\"\\nSummary statistics for numeric columns:\\n\", numeric_summary)\n",
    "\n",
    "# Visualize distributions of numeric columns\n",
    "import matplotlib.pyplot as plt\n",
    "\n",
    "numeric_cols = ['average_rating', 'publication_year', 'n_reviews', 'sum_n_votes']\n",
    "for col in numeric_cols:\n",
    "    if col in books_with_reviews.columns:\n",
    "        plt.figure(figsize=(7,4))\n",
    "        books_with_reviews[col].hist(bins=30)\n",
    "        plt.title(f'Distribution of {col}')\n",
    "        plt.xlabel(col)\n",
    "        plt.ylabel('Count')\n",
    "        plt.show()"
   ]
  },
  {
   "cell_type": "code",
   "execution_count": null,
   "id": "edbfb4bc",
   "metadata": {},
   "outputs": [],
   "source": [
    "# Save the final DataFrame as a CSV in data/clean\n",
    "output_path = os.path.join(os.getcwd(), '..', 'data', 'clean', 'books_with_reviews.csv')\n",
    "books_with_reviews.to_csv(output_path, index=False)\n",
    "print(f\"Saved to {output_path}\")"
   ]
  },
  {
   "cell_type": "code",
   "execution_count": null,
   "id": "34413af4",
   "metadata": {},
   "outputs": [],
   "source": [
    "books_with_reviews.columns"
   ]
  },
  {
   "cell_type": "code",
   "execution_count": null,
   "id": "16d11c08",
   "metadata": {},
   "outputs": [],
   "source": [
    "np.percentile(books_with_reviews['review_texts'].fillna('').astype(str).apply(lambda x : len(x)), 95)"
   ]
  }
 ],
 "metadata": {
  "kernelspec": {
   "display_name": "torch_nn_base",
   "language": "python",
   "name": "python3"
  },
  "language_info": {
   "codemirror_mode": {
    "name": "ipython",
    "version": 3
   },
   "file_extension": ".py",
   "mimetype": "text/x-python",
   "name": "python",
   "nbconvert_exporter": "python",
   "pygments_lexer": "ipython3",
   "version": "3.9.16"
  }
 },
 "nbformat": 4,
 "nbformat_minor": 5
}
